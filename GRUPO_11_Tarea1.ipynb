{
 "cells": [
  {
   "cell_type": "markdown",
   "id": "b2a86049",
   "metadata": {},
   "source": [
    "TAREA"
   ]
  },
  {
   "cell_type": "code",
   "execution_count": 4,
   "id": "fe80836b-cca4-44dd-bd19-719f224bf2e9",
   "metadata": {},
   "outputs": [],
   "source": [
    "import pandas as pd \n",
    "import numpy as np \n",
    "import matplotlib.pyplot as plt\n",
    "from datetime import datetime "
   ]
  },
  {
   "cell_type": "markdown",
   "id": "72a48295",
   "metadata": {},
   "source": [
    "I."
   ]
  },
  {
   "cell_type": "code",
   "execution_count": 5,
   "id": "152fbb21",
   "metadata": {},
   "outputs": [
    {
     "name": "stderr",
     "output_type": "stream",
     "text": [
      "C:\\Users\\aml\\AppData\\Local\\Temp\\ipykernel_12760\\2090504097.py:1: FutureWarning: 'M' is deprecated and will be removed in a future version, please use 'ME' instead.\n",
      "  index= pd.date_range(start='2023-01-01', periods=24 , freq='M')\n"
     ]
    },
    {
     "data": {
      "text/plain": [
       "Timestamp('2023-01-31 00:00:00')"
      ]
     },
     "execution_count": 5,
     "metadata": {},
     "output_type": "execute_result"
    }
   ],
   "source": [
    "index= pd.date_range(start='2023-01-01', periods=24 , freq='M')\n",
    "index[0]"
   ]
  },
  {
   "cell_type": "markdown",
   "id": "bde2f839",
   "metadata": {},
   "source": [
    "II."
   ]
  },
  {
   "cell_type": "code",
   "execution_count": 6,
   "id": "5cd6d1f1",
   "metadata": {},
   "outputs": [
    {
     "name": "stdout",
     "output_type": "stream",
     "text": [
      "[160 303 289 342 363 435 186 449 262 125 461 269 408 391 438 196 370 390\n",
      " 154 430 180 134 486 127]\n"
     ]
    }
   ],
   "source": [
    "data= np.random.randint(100, 500, size=24)\n",
    "print(data)"
   ]
  },
  {
   "cell_type": "code",
   "execution_count": 7,
   "id": "6610b9c6",
   "metadata": {},
   "outputs": [],
   "source": [
    "df = pd.DataFrame(data, index=index, columns=['data'])"
   ]
  },
  {
   "cell_type": "markdown",
   "id": "2f27942b",
   "metadata": {},
   "source": [
    "III. "
   ]
  },
  {
   "cell_type": "code",
   "execution_count": 8,
   "id": "25fbef47",
   "metadata": {},
   "outputs": [
    {
     "name": "stderr",
     "output_type": "stream",
     "text": [
      "C:\\Users\\aml\\AppData\\Local\\Temp\\ipykernel_12760\\650283395.py:1: FutureWarning: 'M' is deprecated and will be removed in a future version, please use 'ME' instead.\n",
      "  datetime_index = pd.date_range(start='2023-01-01', periods=24 , freq='M')\n"
     ]
    },
    {
     "data": {
      "text/html": [
       "<div>\n",
       "<style scoped>\n",
       "    .dataframe tbody tr th:only-of-type {\n",
       "        vertical-align: middle;\n",
       "    }\n",
       "\n",
       "    .dataframe tbody tr th {\n",
       "        vertical-align: top;\n",
       "    }\n",
       "\n",
       "    .dataframe thead th {\n",
       "        text-align: right;\n",
       "    }\n",
       "</style>\n",
       "<table border=\"1\" class=\"dataframe\">\n",
       "  <thead>\n",
       "    <tr style=\"text-align: right;\">\n",
       "      <th></th>\n",
       "      <th>data</th>\n",
       "    </tr>\n",
       "  </thead>\n",
       "  <tbody>\n",
       "    <tr>\n",
       "      <th>2023-01-31</th>\n",
       "      <td>361</td>\n",
       "    </tr>\n",
       "    <tr>\n",
       "      <th>2023-02-28</th>\n",
       "      <td>214</td>\n",
       "    </tr>\n",
       "    <tr>\n",
       "      <th>2023-03-31</th>\n",
       "      <td>493</td>\n",
       "    </tr>\n",
       "    <tr>\n",
       "      <th>2023-04-30</th>\n",
       "      <td>113</td>\n",
       "    </tr>\n",
       "    <tr>\n",
       "      <th>2023-05-31</th>\n",
       "      <td>257</td>\n",
       "    </tr>\n",
       "    <tr>\n",
       "      <th>2023-06-30</th>\n",
       "      <td>362</td>\n",
       "    </tr>\n",
       "    <tr>\n",
       "      <th>2023-07-31</th>\n",
       "      <td>192</td>\n",
       "    </tr>\n",
       "    <tr>\n",
       "      <th>2023-08-31</th>\n",
       "      <td>322</td>\n",
       "    </tr>\n",
       "    <tr>\n",
       "      <th>2023-09-30</th>\n",
       "      <td>377</td>\n",
       "    </tr>\n",
       "    <tr>\n",
       "      <th>2023-10-31</th>\n",
       "      <td>153</td>\n",
       "    </tr>\n",
       "    <tr>\n",
       "      <th>2023-11-30</th>\n",
       "      <td>251</td>\n",
       "    </tr>\n",
       "    <tr>\n",
       "      <th>2023-12-31</th>\n",
       "      <td>180</td>\n",
       "    </tr>\n",
       "    <tr>\n",
       "      <th>2024-01-31</th>\n",
       "      <td>440</td>\n",
       "    </tr>\n",
       "    <tr>\n",
       "      <th>2024-02-29</th>\n",
       "      <td>215</td>\n",
       "    </tr>\n",
       "    <tr>\n",
       "      <th>2024-03-31</th>\n",
       "      <td>177</td>\n",
       "    </tr>\n",
       "    <tr>\n",
       "      <th>2024-04-30</th>\n",
       "      <td>327</td>\n",
       "    </tr>\n",
       "    <tr>\n",
       "      <th>2024-05-31</th>\n",
       "      <td>319</td>\n",
       "    </tr>\n",
       "    <tr>\n",
       "      <th>2024-06-30</th>\n",
       "      <td>119</td>\n",
       "    </tr>\n",
       "    <tr>\n",
       "      <th>2024-07-31</th>\n",
       "      <td>225</td>\n",
       "    </tr>\n",
       "    <tr>\n",
       "      <th>2024-08-31</th>\n",
       "      <td>356</td>\n",
       "    </tr>\n",
       "    <tr>\n",
       "      <th>2024-09-30</th>\n",
       "      <td>214</td>\n",
       "    </tr>\n",
       "    <tr>\n",
       "      <th>2024-10-31</th>\n",
       "      <td>373</td>\n",
       "    </tr>\n",
       "    <tr>\n",
       "      <th>2024-11-30</th>\n",
       "      <td>345</td>\n",
       "    </tr>\n",
       "    <tr>\n",
       "      <th>2024-12-31</th>\n",
       "      <td>186</td>\n",
       "    </tr>\n",
       "  </tbody>\n",
       "</table>\n",
       "</div>"
      ],
      "text/plain": [
       "            data\n",
       "2023-01-31   361\n",
       "2023-02-28   214\n",
       "2023-03-31   493\n",
       "2023-04-30   113\n",
       "2023-05-31   257\n",
       "2023-06-30   362\n",
       "2023-07-31   192\n",
       "2023-08-31   322\n",
       "2023-09-30   377\n",
       "2023-10-31   153\n",
       "2023-11-30   251\n",
       "2023-12-31   180\n",
       "2024-01-31   440\n",
       "2024-02-29   215\n",
       "2024-03-31   177\n",
       "2024-04-30   327\n",
       "2024-05-31   319\n",
       "2024-06-30   119\n",
       "2024-07-31   225\n",
       "2024-08-31   356\n",
       "2024-09-30   214\n",
       "2024-10-31   373\n",
       "2024-11-30   345\n",
       "2024-12-31   186"
      ]
     },
     "execution_count": 8,
     "metadata": {},
     "output_type": "execute_result"
    }
   ],
   "source": [
    "datetime_index = pd.date_range(start='2023-01-01', periods=24 , freq='M')\n",
    "df_datetime = pd.DataFrame({'data' : np.random.randint(100, 500, size=24)}, index=datetime_index)\n",
    "df_datetime"
   ]
  },
  {
   "cell_type": "markdown",
   "id": "ece39adb",
   "metadata": {},
   "source": [
    "IV."
   ]
  },
  {
   "cell_type": "code",
   "execution_count": 9,
   "id": "ebc14ab0",
   "metadata": {},
   "outputs": [],
   "source": [
    "df['lagged'] = df['data'].shift(periods=-1)\n",
    "df['shifted'] = df['data'].shift(periods=1)"
   ]
  },
  {
   "cell_type": "code",
   "execution_count": 10,
   "id": "2b3d4398",
   "metadata": {},
   "outputs": [],
   "source": [
    "df['pct_change'] = df['data'].pct_change().mul(100)"
   ]
  },
  {
   "cell_type": "code",
   "execution_count": 11,
   "id": "21be14f1",
   "metadata": {},
   "outputs": [
    {
     "data": {
      "image/png": "[encoded data removed]",
      "text/plain": [
       "<Figure size 640x480 with 1 Axes>"
      ]
     },
     "metadata": {},
     "output_type": "display_data"
    }
   ],
   "source": [
    "df_datetime.plot()\n",
    "plt.plot(df.index, df['pct_change'], color='b')\n",
    "plt.title('Variación (%) de la variable macroeconómica')\n",
    "plt.show()"
   ]
  },
  {
   "cell_type": "markdown",
   "id": "3add35b1",
   "metadata": {},
   "source": [
    "V."
   ]
  },
  {
   "cell_type": "code",
   "execution_count": 16,
   "id": "5abdea0b",
   "metadata": {},
   "outputs": [
    {
     "name": "stderr",
     "output_type": "stream",
     "text": [
      "C:\\Users\\aml\\AppData\\Local\\Temp\\ipykernel_12760\\766996787.py:1: FutureWarning: 'Q' is deprecated and will be removed in a future version, please use 'QE' instead.\n",
      "  df_quarterly = df.resample('Q').asfreq().fillna(method='bfill')\n",
      "C:\\Users\\aml\\AppData\\Local\\Temp\\ipykernel_12760\\766996787.py:1: FutureWarning: DataFrame.fillna with 'method' is deprecated and will raise in a future version. Use obj.ffill() or obj.bfill() instead.\n",
      "  df_quarterly = df.resample('Q').asfreq().fillna(method='bfill')\n"
     ]
    }
   ],
   "source": [
    "df_quarterly = df.resample('Q').asfreq().fillna(method='bfill')"
   ]
  },
  {
   "cell_type": "code",
   "execution_count": 17,
   "id": "dbc50f31",
   "metadata": {},
   "outputs": [
    {
     "name": "stdout",
     "output_type": "stream",
     "text": [
      "DataFrame Trimestral\n",
      "            data  lagged  shifted  pct_change\n",
      "2023-03-31   289   342.0    303.0   -4.620462\n",
      "2023-06-30   435   186.0    363.0   19.834711\n",
      "2023-09-30   262   125.0    449.0  -41.648107\n",
      "2023-12-31   269   408.0    461.0  -41.648590\n",
      "2024-03-31   438   196.0    391.0   12.020460\n"
     ]
    }
   ],
   "source": [
    "print(\"DataFrame Trimestral\")\n",
    "print(df_quarterly.head())"
   ]
  },
  {
   "cell_type": "markdown",
   "id": "e9088f04",
   "metadata": {},
   "source": [
    "VI."
   ]
  },
  {
   "cell_type": "code",
   "execution_count": 13,
   "id": "388a7269",
   "metadata": {},
   "outputs": [
    {
     "name": "stderr",
     "output_type": "stream",
     "text": [
      "C:\\Users\\aml\\AppData\\Local\\Temp\\ipykernel_12760\\781997980.py:1: FutureWarning: 'M' is deprecated and will be removed in a future version, please use 'ME' instead.\n",
      "  df_monthly_interpolated = df_quarterly.resample('M').interpolate(method='ffill')\n",
      "C:\\Users\\aml\\AppData\\Local\\Temp\\ipykernel_12760\\781997980.py:1: FutureWarning: DataFrame.interpolate with method=ffill is deprecated and will raise in a future version. Use obj.ffill() or obj.bfill() instead.\n",
      "  df_monthly_interpolated = df_quarterly.resample('M').interpolate(method='ffill')\n"
     ]
    }
   ],
   "source": [
    "df_monthly_interpolated = df_quarterly.resample('M').interpolate(method='ffill')"
   ]
  },
  {
   "cell_type": "code",
   "execution_count": 18,
   "id": "ba74789a",
   "metadata": {},
   "outputs": [
    {
     "name": "stdout",
     "output_type": "stream",
     "text": [
      "DataFrame Mensual\n",
      "             data  lagged  shifted  pct_change\n",
      "2023-03-31  289.0   342.0    303.0   -4.620462\n",
      "2023-04-30  289.0   342.0    303.0   -4.620462\n",
      "2023-05-31  289.0   342.0    303.0   -4.620462\n",
      "2023-06-30  435.0   186.0    363.0   19.834711\n",
      "2023-07-31  435.0   186.0    363.0   19.834711\n"
     ]
    }
   ],
   "source": [
    "print(\"DataFrame Mensual\")\n",
    "print(df_monthly_interpolated.head())"
   ]
  }
 ],
 "metadata": {
  "kernelspec": {
   "display_name": "Python 3 (ipykernel)",
   "language": "python",
   "name": "python3"
  },
  "language_info": {
   "codemirror_mode": {
    "name": "ipython",
    "version": 3
   },
   "file_extension": ".py",
   "mimetype": "text/x-python",
   "name": "python",
   "nbconvert_exporter": "python",
   "pygments_lexer": "ipython3",
   "version": "3.12.4"
  },
  "toc-showtags": false
 },
 "nbformat": 4,
 "nbformat_minor": 5
}
